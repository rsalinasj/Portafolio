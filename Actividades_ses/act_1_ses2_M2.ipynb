{
 "cells": [
  {
   "cell_type": "markdown",
   "id": "ad385f68",
   "metadata": {},
   "source": [
    "ACTIVIDAD PRÁCTICA\n",
    "Estudiante: Rafael Salinas Jiménez\n",
    "\n",
    "A continuación, pondrás en práctica tus conocimientos básicos de Python desarrollando esta\n",
    "actividad. Aplicarás lo aprendido sobre variables, operadores aritméticos y tipos de datos para\n",
    "resolver un problema de cálculo sencillo. Esta actividad te ayudará a comprender cómo usar Python\n",
    "para manejar precios y descuentos, aspectos muy útiles en situaciones del mundo real."
   ]
  },
  {
   "cell_type": "markdown",
   "id": "80b0d6d0",
   "metadata": {},
   "source": [
    "Crear tres variables en Python (1 puntos):\n",
    "\n",
    "-Precio_producto, que almacene el precio de un producto, por ejemplo, 1200.\n",
    "\n",
    "-Cantidad, que almacene la cantidad comprada, por ejemplo, 3.\n",
    "\n",
    "-Descuento, que almacene un descuento en porcentaje, por ejemplo, 10."
   ]
  },
  {
   "cell_type": "code",
   "execution_count": 1,
   "id": "31e51988",
   "metadata": {},
   "outputs": [],
   "source": [
    "precio_producto=1200\n",
    "cantidad=3\n",
    "descuento=10"
   ]
  },
  {
   "cell_type": "markdown",
   "id": "8213b960",
   "metadata": {},
   "source": [
    "Calcular el precio total sin descuento (2 puntos):\n",
    "\n",
    "Multiplica precio_producto por cantidad y guárdalo en una nueva variable llamada\n",
    "total_sin_descuento."
   ]
  },
  {
   "cell_type": "code",
   "execution_count": 5,
   "id": "9b7f0f1d",
   "metadata": {},
   "outputs": [
    {
     "name": "stdout",
     "output_type": "stream",
     "text": [
      "El precio total sin descuento es 3600\n"
     ]
    }
   ],
   "source": [
    "total_sin_descuento=precio_producto*cantidad\n",
    "print(f'El precio total sin descuento es {total_sin_descuento}')"
   ]
  },
  {
   "cell_type": "markdown",
   "id": "80ed526b",
   "metadata": {},
   "source": [
    "Calcular el monto de descuento (2 puntos):\n",
    "\n",
    "Usa la variable descuento (recuerda que es en porcentaje) y guárdalo en una variable\n",
    "llamada monto_descuento."
   ]
  },
  {
   "cell_type": "code",
   "execution_count": 6,
   "id": "8027d173",
   "metadata": {},
   "outputs": [
    {
     "name": "stdout",
     "output_type": "stream",
     "text": [
      "El monto del descuento es 360.0\n"
     ]
    }
   ],
   "source": [
    "monto_descuento=total_sin_descuento*descuento/100\n",
    "print(f'El monto del descuento es {monto_descuento}')"
   ]
  },
  {
   "cell_type": "markdown",
   "id": "0b7c1039",
   "metadata": {},
   "source": [
    "Calcular el precio total con descuento (3 puntos):\n",
    "\n",
    "Resta monto_descuento de total_sin_descuento, y almacénalo en una variable llamada total_con_descuento."
   ]
  },
  {
   "cell_type": "code",
   "execution_count": 7,
   "id": "5f74adcc",
   "metadata": {},
   "outputs": [
    {
     "name": "stdout",
     "output_type": "stream",
     "text": [
      "El precio total con descuento es 3240.0\n"
     ]
    }
   ],
   "source": [
    "total_con_descuento=total_sin_descuento-monto_descuento\n",
    "print(f'El precio total con descuento es {total_con_descuento}')"
   ]
  },
  {
   "cell_type": "markdown",
   "id": "43434497",
   "metadata": {},
   "source": [
    "Imprime los resultados de cada cálculo con mensajes claros (2 puntos):\n",
    "o “Total sin descuento: ...”\n",
    "o “Monto de descuento: …”\n",
    "o “Total con descuento: …”"
   ]
  },
  {
   "cell_type": "code",
   "execution_count": 8,
   "id": "fe0fadba",
   "metadata": {},
   "outputs": [
    {
     "name": "stdout",
     "output_type": "stream",
     "text": [
      "Total sin descuento:3600\n",
      " Monto de descuento:360.0\n",
      " Total con descuento:3240.0\n"
     ]
    }
   ],
   "source": [
    "print(f'Total sin descuento:{total_sin_descuento}\\n',\n",
    "      f'Monto de descuento:{monto_descuento}\\n',\n",
    "      f'Total con descuento:{total_con_descuento}')"
   ]
  }
 ],
 "metadata": {
  "kernelspec": {
   "display_name": ".venv",
   "language": "python",
   "name": "python3"
  },
  "language_info": {
   "codemirror_mode": {
    "name": "ipython",
    "version": 3
   },
   "file_extension": ".py",
   "mimetype": "text/x-python",
   "name": "python",
   "nbconvert_exporter": "python",
   "pygments_lexer": "ipython3",
   "version": "3.13.5"
  }
 },
 "nbformat": 4,
 "nbformat_minor": 5
}
