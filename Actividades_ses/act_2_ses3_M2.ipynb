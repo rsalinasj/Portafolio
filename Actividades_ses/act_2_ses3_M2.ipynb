{
 "cells": [
  {
   "cell_type": "markdown",
   "id": "6a24614f",
   "metadata": {},
   "source": [
    "ACTIVIDAD PRÁCTICA\n",
    "\n",
    "Durante la finalización de tu año escolar, has sido asignado a ayudar a los profesores a gestionar los resultados de los estudiantes en sus exámenes finales. Te piden que desarrolles un programa en Python para evaluar las calificaciones y determinar si cada estudiante ha aprobado o necesita mejorar en alguna asignatura.\n"
   ]
  },
  {
   "cell_type": "markdown",
   "id": "3e25b89e",
   "metadata": {},
   "source": [
    "1. Solicita al usuario que ingrese el nombre y la calificación de un estudiante. Evalúa si la\n",
    "calificación es aprobatoria (nota mayor o igual a 60) usando una condición if else. Imprime\n",
    "si el estudiante ha aprobado o no (1 punto)."
   ]
  },
  {
   "cell_type": "code",
   "execution_count": 13,
   "id": "4ad5ef3b",
   "metadata": {},
   "outputs": [
    {
     "name": "stdout",
     "output_type": "stream",
     "text": [
      "Juan no ha aprobado, su calificación es: 7\n"
     ]
    }
   ],
   "source": [
    "nombreynota = input(\"Introduce tu nombre y nota (separados por un espacio): \")\n",
    "nombre, nota = nombreynota.split()\n",
    "nota = float(nota)\n",
    "\n",
    "\n",
    "\n",
    "if nota>=60:\n",
    "     print(f'{nombre} ha aprobado con: {calificación}')\n",
    "else:\n",
    "     print(f'{nombre} no ha aprobado, su calificación es: {calificación}')"
   ]
  },
  {
   "cell_type": "markdown",
   "id": "a8adb948",
   "metadata": {},
   "source": [
    "2. Usa un bucle while para permitir la entrada de datos de varios estudiantes, hasta que el\n",
    "usuario decida salir (2 puntos)."
   ]
  },
  {
   "cell_type": "code",
   "execution_count": null,
   "id": "ef9e963c",
   "metadata": {},
   "outputs": [
    {
     "name": "stdout",
     "output_type": "stream",
     "text": [
      "Pedro no ha aprobado, su calificación es: 30.0\n",
      "José ha aprobado con: 80.0\n",
      "Julio no ha aprobado, su calificación es: 15.0\n",
      "Juan ha aprobado con: 70.0\n",
      "Juan ha aprobado con: 70.0\n"
     ]
    },
    {
     "ename": "",
     "evalue": "",
     "output_type": "error",
     "traceback": [
      "\u001b[1;31mThe Kernel crashed while executing code in the current cell or a previous cell. \n",
      "\u001b[1;31mPlease review the code in the cell(s) to identify a possible cause of the failure. \n",
      "\u001b[1;31mClick <a href='https://aka.ms/vscodeJupyterKernelCrash'>here</a> for more info. \n",
      "\u001b[1;31mView Jupyter <a href='command:jupyter.viewOutput'>log</a> for further details."
     ]
    }
   ],
   "source": [
    "while nombreynota != \"fin\":\n",
    "    nombreynota = input(\"Introduce tu nombre y nota (separados por un espacio): \")\n",
    "    if nombreynota == \"fin\":\n",
    "        break\n",
    "    nombre, nota = nombreynota.split()\n",
    "    nota = float(nota)\n",
    "\n",
    "    if nota >= 60:\n",
    "        print(f'{nombre} ha aprobado con: {nota}')\n",
    "    else:\n",
    "        print(f'{nombre} no ha aprobado, su calificación es: {nota}')\n",
    "exit()"
   ]
  },
  {
   "cell_type": "markdown",
   "id": "a77fede8",
   "metadata": {},
   "source": [
    "3. Dentro del bucle while, solicita las calificaciones de tres materias diferentes para cada estudiante (por ejemplo, Matemáticas, Ciencias e Inglés). Calcula el promedio de las tres notas (2 puntos)."
   ]
  },
  {
   "cell_type": "code",
   "execution_count": 18,
   "id": "335cf4c7",
   "metadata": {},
   "outputs": [
    {
     "name": "stdout",
     "output_type": "stream",
     "text": [
      "Pedro no ha aprobado, su calificación es: 55.0\n",
      "José no ha aprobado, su calificación es: 53.333333333333336\n",
      "María ha aprobado con: 76.66666666666667\n",
      "Juan ha aprobado con: 70.0\n"
     ]
    }
   ],
   "source": [
    "nombreynota =()\n",
    "while nombreynota != \"fin\":\n",
    "    nombreynota = input(\"Introduce nombre y nota matematicas, ciencias e inglés (separados por un espacio): \")\n",
    "    if nombreynota == \"fin\":\n",
    "        break\n",
    "    nombre, matematica, ciencias, ingles = nombreynota.split()\n",
    "    matematica = float(matematica)\n",
    "    ciencias = float(ciencias)\n",
    "    ingles = float(ingles)\n",
    "    nota = (matematica + ciencias + ingles) / 3\n",
    "    if nota >= 60:\n",
    "        print(f'{nombre} ha aprobado con: {nota}')\n",
    "    else:\n",
    "        print(f'{nombre} no ha aprobado, su calificación es: {nota}')"
   ]
  },
  {
   "cell_type": "markdown",
   "id": "e39b5b05",
   "metadata": {},
   "source": [
    "4. Usa una estructura if elif else para evaluar el promedio obtenido y asignar un comentario: Excelente” si el promedio es 90 o más, “Bueno” si el promedio está entre 75 y 89, y “Necesita ejorar” si es menos de 75 (2 puntos)."
   ]
  },
  {
   "cell_type": "code",
   "execution_count": 53,
   "id": "05f53fa6",
   "metadata": {},
   "outputs": [
    {
     "name": "stdout",
     "output_type": "stream",
     "text": [
      "Pedro ha aprobado con promedio: 70.0\n",
      "Pedro ha obtenido una calificación de: Necesita mejorar\n",
      "\n",
      "Juan no ha aprobado, su promedio es: 53.333333333333336\n",
      "Juan ha obtenido una calificación de: Necesita mejorar\n",
      "\n",
      "Maria ha aprobado con promedio: 90.0\n",
      "Maria ha obtenido una calificación de: Excelente\n",
      "\n",
      "José no ha aprobado, su promedio es: 56.666666666666664\n",
      "José ha obtenido una calificación de: Necesita mejorar\n",
      "\n"
     ]
    }
   ],
   "source": [
    "nombreynota =()\n",
    "nota = 0\n",
    "nombre = [\"\"]\n",
    "while nombreynota != \"fin\":\n",
    "    nombreynota = input(\"Introduce nombre y nota matematicas, ciencias e inglés (separados por un espacio): \")\n",
    "    if nombreynota == \"fin\":\n",
    "        break\n",
    "    nombre, matematica, ciencias, ingles = nombreynota.split()\n",
    "    nombre= str(nombre)\n",
    "    matematica = float(matematica)\n",
    "    ciencias = float(ciencias)\n",
    "    ingles = float(ingles)\n",
    "\n",
    "    nota = (matematica + ciencias + ingles) / 3\n",
    "\n",
    "    #Evaluar aprobación\n",
    "    if nota >= 60:\n",
    "        print(f'{nombre} ha aprobado con promedio: {nota}')\n",
    "    else:\n",
    "        print(f'{nombre} no ha aprobado, su promedio es: {nota}')\n",
    "\n",
    "    #Asignar calificación cualitativa\n",
    "    if nota>= 90:\n",
    "        calificación = \"Excelente\"\n",
    "    elif nota >=75 and nota <=89:\n",
    "         calificación = \"Bueno\"\n",
    "    else:\n",
    "        calificación = \"Necesita mejorar\"\n",
    "    print(f'{nombre} ha obtenido una calificación de: {calificación}\\n')\n"
   ]
  },
  {
   "cell_type": "markdown",
   "id": "e7c2d334",
   "metadata": {},
   "source": [
    "5. Implementa un bucle for para mostrar el nombre y los comentarios de todos los estudiantes\n",
    "ingresados (2 puntos)."
   ]
  },
  {
   "cell_type": "code",
   "execution_count": null,
   "id": "b280f559",
   "metadata": {},
   "outputs": [
    {
     "name": "stdout",
     "output_type": "stream",
     "text": [
      "Pedro ha aprobado con promedio: 80.0\n",
      "Juan no ha aprobado, su promedio es: 53.333333333333336\n",
      "Maria ha aprobado con promedio: 90.0\n",
      "José no ha aprobado, su promedio es: 35.0\n",
      "José obtuvo un promedio de:35.0 | Comentarios: Necesita mejorar\n",
      "\n"
     ]
    }
   ],
   "source": [
    "nombreynota = ()\n",
    "alumnos=[]\n",
    "while nombreynota != \"fin\":\n",
    "    nombreynota = input(\"Introduce nombre y nota Mat., Cs e ing. (separados por un espacio): \")\n",
    "    if nombreynota == \"fin\":\n",
    "        break\n",
    "\n",
    "    nombre, matematica, ciencias, ingles = nombreynota.split()\n",
    "    matematica = float(matematica)\n",
    "    ciencias = float(ciencias)\n",
    "    ingles = float(ingles)\n",
    "    alumnos.append({\"nombre\": nombre,\n",
    "                    \"matematica\": matematica,\n",
    "                    \"ciencias\": ciencias, \n",
    "                    \"ingles\": ingles})\n",
    "\n",
    "for alumno in alumnos:\n",
    "    nombre = alumno[\"nombre\"]\n",
    "    nota = (alumno[\"matematica\"] + alumno[\"ciencias\"] + alumno[\"ingles\"]) / 3\n",
    "\n",
    "    #Evaluar aprobación\n",
    "    if nota >= 60:\n",
    "     print(f'{nombre} ha aprobado con promedio: {nota}')\n",
    "    else:\n",
    "      print(f'{nombre} no ha aprobado, su promedio es: {nota}')\n",
    "\n",
    "    #Asignar calificación cualitativa\n",
    "    if nota>= 90:\n",
    "        calificación = \"Excelente\"\n",
    "    elif nota >=75 and nota <=89:\n",
    "         calificación = \"Bueno\"\n",
    "    else:\n",
    "        calificación = \"Necesita mejorar\"\n",
    "    print(f'{nombre} obtuvo un promedio de:{nota} | Comentarios: {calificación}\\n')\n"
   ]
  },
  {
   "cell_type": "markdown",
   "id": "866d7688",
   "metadata": {},
   "source": [
    "6. Usa una expresión ternaria para agregar una nota adicional en los comentarios si el estudiante tiene un promedio de 100 “¡Puntuación perfecta!” (1 punto)."
   ]
  },
  {
   "cell_type": "code",
   "execution_count": null,
   "id": "18a24025",
   "metadata": {},
   "outputs": [],
   "source": []
  }
 ],
 "metadata": {
  "kernelspec": {
   "display_name": "venv",
   "language": "python",
   "name": "python3"
  },
  "language_info": {
   "codemirror_mode": {
    "name": "ipython",
    "version": 3
   },
   "file_extension": ".py",
   "mimetype": "text/x-python",
   "name": "python",
   "nbconvert_exporter": "python",
   "pygments_lexer": "ipython3",
   "version": "3.13.5"
  }
 },
 "nbformat": 4,
 "nbformat_minor": 5
}
